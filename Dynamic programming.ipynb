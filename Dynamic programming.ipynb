{
 "cells": [
  {
   "cell_type": "markdown",
   "metadata": {},
   "source": [
    "SAMUEL L. GALE\n",
    "SEP18/BCS/002u\n",
    "Data structure and Algorithm\n",
    "Dynamic Programming and Memoization"
   ]
  },
  {
   "cell_type": "markdown",
   "metadata": {},
   "source": [
    "#Dynamic programming\n",
    "Dynamic Programming is mainly an optimization over plain recursion. Wherever we see a recursive solution that has repeated calls for same inputs, we can optimize it using Dynamic Programming. The idea is to simply store the results of subproblems, so that we do not have to re-compute them when needed later. This simple optimization reduces time complexities from exponential to polynomial.\n",
    "An example of problem is the,\n",
    "\n",
    "Printing Items in Knapsack\n",
    "\n"
   ]
  },
  {
   "cell_type": "code",
   "execution_count": null,
   "metadata": {},
   "outputs": [],
   "source": [
    "\n",
    "Printing Items in Knapsack\n",
    "\n",
    "Given weights and values of n items, put these items in a knapsack of capacity W to get the maximum total value in the knapsack. In other words, given two integer arrays val[0..n-1] and wt[0..n-1] which represent values and weights associated with n items respectively. Also given an integer W which represents knapsack capacity, find out the items such that sum of the weights of those items of given subset is smaller than or equal to W. You cannot break an item, either pick the complete item, or don’t pick it (0-1 property).\n",
    "\n",
    "Prerequisite : Knapsack\n"
   ]
  },
  {
   "cell_type": "code",
   "execution_count": null,
   "metadata": {},
   "outputs": [],
   "source": [
    "Input : val[] = {60, 100, 120};\n",
    "        wt[] = {10, 20, 30};\n",
    "        W = 50;\n",
    "Output : 220 //maximum value that can be obtained\n",
    "         30 20 //weights 20 and 30 are included. \n",
    "\n",
    "Input : val[] = {40, 100, 50, 60};\n",
    "        wt[] = {20, 10, 40, 30};\n",
    "        W = 60;\n",
    "Output : 200\n",
    "         30 20 10"
   ]
  },
  {
   "cell_type": "code",
   "execution_count": 2,
   "metadata": {},
   "outputs": [
    {
     "name": "stdout",
     "output_type": "stream",
     "text": [
      "220\n",
      "30\n",
      "20\n"
     ]
    }
   ],
   "source": [
    "# Python3 code for Dynamic Programming \n",
    "# based solution for 0-1 Knapsack problem \n",
    "  \n",
    "# Prints the items which are put in a  \n",
    "# knapsack of capacity W \n",
    "def printknapSack(W, wt, val, n): \n",
    "    K = [[0 for w in range(W + 1)] \n",
    "            for i in range(n + 1)] \n",
    "              \n",
    "    # Build table K[][] in bottom \n",
    "    # up manner \n",
    "    for i in range(n + 1): \n",
    "        for w in range(W + 1): \n",
    "            if i == 0 or w == 0: \n",
    "                K[i][w] = 0\n",
    "            elif wt[i - 1] <= w: \n",
    "                K[i][w] = max(val[i - 1]  \n",
    "                  + K[i - 1][w - wt[i - 1]], \n",
    "                               K[i - 1][w]) \n",
    "            else: \n",
    "                K[i][w] = K[i - 1][w] \n",
    "  \n",
    "    # stores the result of Knapsack \n",
    "    res = K[n][W] \n",
    "    print(res) \n",
    "      \n",
    "    w = W \n",
    "    for i in range(n, 0, -1): \n",
    "        if res <= 0: \n",
    "            break\n",
    "        # either the result comes from the \n",
    "        # top (K[i-1][w]) or from (val[i-1] \n",
    "        # + K[i-1] [w-wt[i-1]]) as in Knapsack \n",
    "        # table. If it comes from the latter \n",
    "        # one/ it means the item is included. \n",
    "        if res == K[i - 1][w]: \n",
    "            continue\n",
    "        else: \n",
    "  \n",
    "            # This item is included. \n",
    "            print(wt[i - 1]) \n",
    "              \n",
    "            # Since this weight is included \n",
    "            # its value is deducted \n",
    "            res = res - val[i - 1] \n",
    "            w = w - wt[i - 1] \n",
    "  \n",
    "# Driver code \n",
    "val = [ 60, 100, 120 ] \n",
    "wt = [ 10, 20, 30 ] \n",
    "W = 50\n",
    "n = len(val) \n",
    "      \n",
    "printknapSack(W, wt, val, n) "
   ]
  }
 ],
 "metadata": {
  "kernelspec": {
   "display_name": "Python 2",
   "language": "python",
   "name": "python2"
  },
  "language_info": {
   "codemirror_mode": {
    "name": "ipython",
    "version": 2
   },
   "file_extension": ".py",
   "mimetype": "text/x-python",
   "name": "python",
   "nbconvert_exporter": "python",
   "pygments_lexer": "ipython2",
   "version": "2.7.15"
  }
 },
 "nbformat": 4,
 "nbformat_minor": 2
}
